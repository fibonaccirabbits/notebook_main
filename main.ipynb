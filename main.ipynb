{
 "cells": [
  {
   "cell_type": "markdown",
   "metadata": {},
   "source": [
    "###  A Catchy Research title"
   ]
  },
  {
   "cell_type": "markdown",
   "metadata": {},
   "source": [
    "#### Example (Please add links to codes/images/otherf files )\n",
    "Here I stole one of Zi's codes and a figure as a demo.\n",
    "* Task: sequence log by antigen class\n",
    "    * [code](classification/other/Sequence_logo.ipynb): function A calculates the numbers and function B generates the plot. \n",
    "    * figure: ![plot](example_plots/example.png)\n",
    "    * Description: Zi did a great job on this plot. The color choice is excellent, x and  y axes are labeled clearly and the plot also includes a title. (IRL) you should write a scientific description here, this is just an illustration :D\n",
    "    * Note: Unfortunately jupyter won't display pdf files. If you save your plots as pdfs, please save them also as png and link them here."
   ]
  },
  {
   "cell_type": "markdown",
   "metadata": {},
   "source": [
    "#### Characterization of A dataset\n",
    "* Network analysis (LD 1–4): look at breakdown of 0-degree nodes by class\n",
    "* Sequence logos by class\n",
    "* Amino acid composition by class"
   ]
  },
  {
   "cell_type": "markdown",
   "metadata": {},
   "source": [
    "#### Deep learning (Classification)\n",
    "* How do classification results differ on datasets\n",
    "* What happens if you apply fancy models to the dataset\n",
    "* Do you find the same patterns the SVM feature selection found?"
   ]
  },
  {
   "cell_type": "markdown",
   "metadata": {},
   "source": [
    "#### SVM/OLS/RFC \n",
    "\n",
    "* Can cross-val parameter selection even increase accuracy\n",
    "* Establish SVM feature selection both on count and sequence encoding\n"
   ]
  },
  {
   "cell_type": "markdown",
   "metadata": {},
   "source": [
    "#### Deep learning (generation)"
   ]
  },
  {
   "cell_type": "code",
   "execution_count": null,
   "metadata": {},
   "outputs": [],
   "source": []
  }
 ],
 "metadata": {
  "kernelspec": {
   "display_name": "Python 3",
   "language": "python",
   "name": "python3"
  },
  "language_info": {
   "codemirror_mode": {
    "name": "ipython",
    "version": 3
   },
   "file_extension": ".py",
   "mimetype": "text/x-python",
   "name": "python",
   "nbconvert_exporter": "python",
   "pygments_lexer": "ipython3",
   "version": "3.5.0"
  }
 },
 "nbformat": 4,
 "nbformat_minor": 2
}

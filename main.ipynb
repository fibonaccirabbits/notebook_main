{
 "cells": [
  {
   "cell_type": "markdown",
   "metadata": {},
   "source": [
    "###  Summer Research 2018 a.k.a Project D.E.Z (Daniel, Edvard, Zi)"
   ]
  },
  {
   "cell_type": "markdown",
   "metadata": {},
   "source": [
    "#### Example (Please add links to codes/images/otherf files )\n",
    "Here I stole one of Zi's codes and a figure as a demo.\n",
    "* Task: sequence log by antigen class\n",
    "    * [code](classification/other/Sequence_logo.ipynb): function A calculates the numbers and function B generates the plot. \n",
    "    * figure: ![plot](example_plots/example.png)\n",
    "    * Description: Zi did a great job on this plot. The color choice is excellent, x and  y axes are labeled clearly and the plot also includes a title. (IRL) you should write a scientific description here, this is just an illustration :D\n",
    "    * Note: Unfortunately jupyter won't display pdf files. If you save your plots as pdfs, please save them also as png and link them here."
   ]
  },
  {
   "cell_type": "markdown",
   "metadata": {},
   "source": [
    "#### Characterization of Abysis database\n",
    "* Network analysis (LD 1–4): look at breakdown of 0-degree nodes by class\n",
    "* Sequence logos by antigen class\n",
    "* Amino acid composition by antigen class"
   ]
  },
  {
   "cell_type": "markdown",
   "metadata": {},
   "source": [
    "#### Deep learning (Classification)\n",
    "* How do classification results differ between CDR3, VDJ and nt/aa as a function of RNN architecture (do more/less layers increase accuracy)?\n",
    "* What happens if you apply the abysis models to the mouse public/private dataset?\n",
    "* Do you find the same patterns the SVM feature selection found?"
   ]
  },
  {
   "cell_type": "markdown",
   "metadata": {},
   "source": [
    "#### SVM/OLS/RFC on Abysis\n",
    "\n",
    "* Can cross-val parameter selection even increase accuracy\n",
    "* Establish SVM feature selection both on count and sequence encoding\n",
    "* Show both SVM and OLS macro and micro accuracies for aa/nt, vdj/cdr3, sequence, count, randomized in one plot with error bars (at least 20 runs per classification problem)"
   ]
  },
  {
   "cell_type": "markdown",
   "metadata": {},
   "source": [
    "#### Deep learning (generation)"
   ]
  },
  {
   "cell_type": "markdown",
   "metadata": {},
   "source": [
    "#### Deorphanization"
   ]
  },
  {
   "cell_type": "markdown",
   "metadata": {},
   "source": [
    "### Entropy\n",
    "\n",
    "[Validate how we generate patterns](generator/random_seq_generator.py)\n",
    "\n",
    "[Check out report on pattern complexity (so that we can finish it)](entropy/report/report.pdf)\n",
    "\n",
    "### comments:\n",
    "* I think the 4 levels of adhoc complexity are enough (i.e., we stop here). Please add figures and the corresponding descriptions here.\n",
    "* For a more \"realistic\" patterns we can use Zi's work on sequence logo. To me this is fairly similar to position specific scoring matrix, [PSSM](https://en.wikipedia.org/wiki/Position_weight_matrix). We can generate sequences using a scoring matrix derived from, say, the abysis data. We then conclude our efforts on entropy here"
   ]
  },
  {
   "cell_type": "code",
   "execution_count": null,
   "metadata": {},
   "outputs": [],
   "source": []
  }
 ],
 "metadata": {
  "kernelspec": {
   "display_name": "Python 3",
   "language": "python",
   "name": "python3"
  },
  "language_info": {
   "codemirror_mode": {
    "name": "ipython",
    "version": 3
   },
   "file_extension": ".py",
   "mimetype": "text/x-python",
   "name": "python",
   "nbconvert_exporter": "python",
   "pygments_lexer": "ipython3",
   "version": "3.5.0"
  }
 },
 "nbformat": 4,
 "nbformat_minor": 2
}
